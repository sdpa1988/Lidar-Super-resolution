{
 "cells": [
  {
   "cell_type": "code",
   "execution_count": 5,
   "metadata": {},
   "outputs": [],
   "source": [
    "import numpy as np\n",
    "import open3d as o3d    \n",
    "\n",
    "def main():\n",
    "    cloud = o3d.io.read_point_cloud(\"Data/PLY/1.1.ply\") # Read the point cloud\n",
    "    o3d.visualization.draw_geometries([cloud]) # Visualize the point cloud     \n",
    "\n",
    "if __name__ == \"__main__\":\n",
    "    main()"
   ]
  },
  {
   "cell_type": "code",
   "execution_count": 17,
   "metadata": {},
   "outputs": [
    {
     "name": "stdout",
     "output_type": "stream",
     "text": [
      "Load a ply point cloud, print it, and render it\n",
      "PointCloud with 156203 points.\n",
      "[[-3.54101562  2.8203125  -4.95703125]\n",
      " [-3.53125     2.8203125  -4.95703125]\n",
      " [-3.53710938  2.83398438 -4.98046875]\n",
      " ...\n",
      " [-0.09210205 -0.42260742 -0.88134766]\n",
      " [-0.09014893 -0.42260742 -0.88134766]\n",
      " [ 3.01367188 -2.22460938 -4.640625  ]]\n",
      "[Open3D WARNING] GLFW Error: WGL: Failed to make context current: The requested transformation operation is not supported. \n",
      "Downsample the point cloud with a voxel of 0.05\n"
     ]
    }
   ],
   "source": [
    "if __name__ == \"__main__\":\n",
    "\n",
    "    print(\"Load a ply point cloud, print it, and render it\")\n",
    "    pcd = o3d.io.read_point_cloud(\"Data/PLY/6.3.ply\")\n",
    "    print(pcd)\n",
    "    print(np.asarray(pcd.points))\n",
    "    o3d.visualization.draw_geometries([pcd])\n",
    "\n",
    "    print(\"Downsample the point cloud with a voxel of 0.05\")\n",
    "    downpcd = pcd.voxel_down_sample(voxel_size=0.05)\n",
    "    o3d.visualization.draw_geometries([downpcd])"
   ]
  },
  {
   "cell_type": "code",
   "execution_count": 11,
   "metadata": {},
   "outputs": [
    {
     "data": {
      "text/plain": [
       "(299140, 3)"
      ]
     },
     "execution_count": 11,
     "metadata": {},
     "output_type": "execute_result"
    }
   ],
   "source": [
    "np.shape(np.asarray(pcd.points))"
   ]
  }
 ],
 "metadata": {
  "kernelspec": {
   "display_name": "Python 3",
   "language": "python",
   "name": "python3"
  },
  "language_info": {
   "codemirror_mode": {
    "name": "ipython",
    "version": 3
   },
   "file_extension": ".py",
   "mimetype": "text/x-python",
   "name": "python",
   "nbconvert_exporter": "python",
   "pygments_lexer": "ipython3",
   "version": "3.10.7"
  },
  "orig_nbformat": 4
 },
 "nbformat": 4,
 "nbformat_minor": 2
}
