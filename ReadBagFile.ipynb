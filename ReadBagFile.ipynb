{
 "cells": [
  {
   "cell_type": "code",
   "execution_count": 4,
   "metadata": {},
   "outputs": [
    {
     "name": "stderr",
     "output_type": "stream",
     "text": [
      "usage: ipykernel_launcher.py [-h] [-i INPUT]\n",
      "ipykernel_launcher.py: error: unrecognized arguments: --ip=127.0.0.1 --stdin=9003 --control=9001 --hb=9000 --Session.signature_scheme=\"hmac-sha256\" --Session.key=b\"69eeb00e-3e36-4309-9a37-2c75c30bb0b3\" --shell=9002 --transport=\"tcp\" --iopub=9004 --f=c:\\Users\\sdper\\AppData\\Roaming\\jupyter\\runtime\\kernel-v2-52428kq7RjIx92sjd.json\n"
     ]
    },
    {
     "ename": "SystemExit",
     "evalue": "2",
     "output_type": "error",
     "traceback": [
      "An exception has occurred, use %tb to see the full traceback.\n",
      "\u001b[1;31mSystemExit\u001b[0m\u001b[1;31m:\u001b[0m 2\n"
     ]
    }
   ],
   "source": [
    "#####################################################\n",
    "##               Read bag from file                ##\n",
    "#####################################################\n",
    "\n",
    "\n",
    "# First import library\n",
    "import pyrealsense2 as rs\n",
    "# Import Numpy for easy array manipulation\n",
    "import numpy as np\n",
    "# Import OpenCV for easy image rendering\n",
    "import cv2\n",
    "# Import argparse for command-line options\n",
    "import argparse\n",
    "# Import os.path for file path manipulation\n",
    "import os.path\n",
    "\n",
    "# Create object for parsing command-line options\n",
    "parser = argparse.ArgumentParser(description=\"Read recorded bag file and display depth stream in jet colormap.\\\n",
    "                                Remember to change the stream fps and format to match the recorded.\")\n",
    "# Add argument which takes path to a bag file as an input\n",
    "parser.add_argument(\"-i\", \"--input\", type=str, help=\"Path to the bag file\")\n",
    "# Parse the command line arguments to an object\n",
    "args = parser.parse_args()\n",
    "# Safety if no parameter have been given\n",
    "if not args.input:\n",
    "    print(\"No input paramater have been given.\")\n",
    "    print(\"For help type --help\")\n",
    "    exit()\n",
    "# Check if the given file have bag extension\n",
    "if os.path.splitext(args.input)[1] != \".bag\":\n",
    "    print(\"The given file is not of correct file format.\")\n",
    "    print(\"Only .bag files are accepted\")\n",
    "    exit()\n",
    "try:\n",
    "    # Create pipeline\n",
    "    pipeline = rs.pipeline()\n",
    "\n",
    "    # Create a config object\n",
    "    config = rs.config()\n",
    "\n",
    "    # Tell config that we will use a recorded device from file to be used by the pipeline through playback.\n",
    "    rs.config.enable_device_from_file(config, args.input)\n",
    "\n",
    "    # Configure the pipeline to stream the depth stream\n",
    "    # Change this parameters according to the recorded bag file resolution\n",
    "    config.enable_stream(rs.stream.depth, rs.format.z16, 30)\n",
    "\n",
    "    # Start streaming from file\n",
    "    pipeline.start(config)\n",
    "\n",
    "    # Create opencv window to render image in\n",
    "    cv2.namedWindow(\"Depth Stream\", cv2.WINDOW_AUTOSIZE)\n",
    "    \n",
    "    # Create colorizer object\n",
    "    colorizer = rs.colorizer()\n",
    "\n",
    "    # Streaming loop\n",
    "    while True:\n",
    "        # Get frameset of depth\n",
    "        frames = pipeline.wait_for_frames()\n",
    "\n",
    "        # Get depth frame\n",
    "        depth_frame = frames.get_depth_frame()\n",
    "\n",
    "        # Colorize depth frame to jet colormap\n",
    "        depth_color_frame = colorizer.colorize(depth_frame)\n",
    "\n",
    "        # Convert depth_frame to numpy array to render image in opencv\n",
    "        depth_color_image = np.asanyarray(depth_color_frame.get_data())\n",
    "\n",
    "        # Render image in opencv window\n",
    "        cv2.imshow(\"Depth Stream\", depth_color_image)\n",
    "        key = cv2.waitKey(1)\n",
    "        # if pressed escape exit program\n",
    "        if key == 27:\n",
    "            cv2.destroyAllWindows()\n",
    "            break\n",
    "\n",
    "finally:\n",
    "    pass"
   ]
  }
 ],
 "metadata": {
  "kernelspec": {
   "display_name": "Python 3",
   "language": "python",
   "name": "python3"
  },
  "language_info": {
   "codemirror_mode": {
    "name": "ipython",
    "version": 3
   },
   "file_extension": ".py",
   "mimetype": "text/x-python",
   "name": "python",
   "nbconvert_exporter": "python",
   "pygments_lexer": "ipython3",
   "version": "3.10.7"
  },
  "orig_nbformat": 4,
  "vscode": {
   "interpreter": {
    "hash": "5721055454d009782aefe10d23ac21cbf7d19b4beda6f34e063acbe9bc9211ba"
   }
  }
 },
 "nbformat": 4,
 "nbformat_minor": 2
}
